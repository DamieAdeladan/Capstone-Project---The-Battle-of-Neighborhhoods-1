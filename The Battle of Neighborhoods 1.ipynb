{
    "cells": [
        {
            "cell_type": "markdown",
            "metadata": {
                "collapsed": true
            },
            "source": "INTRODUCTION - BUSINESS PROBLEM"
        },
        {
            "cell_type": "markdown",
            "metadata": {},
            "source": "In this project, I would be analysing the safest and most secured place for an immigrant to live in Georgia, United states of America. This would be targeted specifically for areas with the lowest crime rate which are also close to the state's capital, Atlanta and where a young lady can easily get a job at a restuarant for a start.\n\nI will make use of data analysis tools to determine the best part of town to reside in."
        },
        {
            "cell_type": "markdown",
            "metadata": {},
            "source": "DATA"
        },
        {
            "cell_type": "markdown",
            "metadata": {},
            "source": "Based on the problem, I would find out the:\n* The safest area in Georgia using https://www.atlantapd.org/Home/ShowDocument?id=3337\n* Foursquare API will also be used to determine the top restuarants to work in the area"
        },
        {
            "cell_type": "markdown",
            "metadata": {},
            "source": ""
        },
        {
            "cell_type": "code",
            "execution_count": null,
            "metadata": {},
            "outputs": [],
            "source": ""
        }
    ],
    "metadata": {
        "kernelspec": {
            "display_name": "Python 3.6",
            "language": "python",
            "name": "python3"
        },
        "language_info": {
            "codemirror_mode": {
                "name": "ipython",
                "version": 3
            },
            "file_extension": ".py",
            "mimetype": "text/x-python",
            "name": "python",
            "nbconvert_exporter": "python",
            "pygments_lexer": "ipython3",
            "version": "3.6.9"
        }
    },
    "nbformat": 4,
    "nbformat_minor": 1
}